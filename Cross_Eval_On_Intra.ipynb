{
 "cells": [
  {
   "cell_type": "code",
   "execution_count": 1,
   "id": "a6774b1f",
   "metadata": {},
   "outputs": [],
   "source": [
    "import os\n",
    "import numpy as np\n",
    "import random\n",
    "import pickle\n",
    "import copy\n",
    "from matplotlib import pyplot as plt\n",
    "\n",
    "# reproducibility\n",
    "np.random.seed(100)\n",
    "random.seed(100)\n",
    "\n"
   ]
  },
  {
   "cell_type": "code",
   "execution_count": null,
   "id": "b6861e79",
   "metadata": {},
   "outputs": [],
   "source": []
  },
  {
   "cell_type": "code",
   "execution_count": 2,
   "id": "3b1c6258",
   "metadata": {},
   "outputs": [
    {
     "name": "stdout",
     "output_type": "stream",
     "text": [
      "inserting onto sys.path: C:\\Users\\kdmen\\Repos\\personalization-privacy-risk\\Main_PythonVersion\\Main_Final\n",
      "exists? True\n",
      "contents: [WindowsPath('C:/Users/kdmen/Repos/personalization-privacy-risk/Main_PythonVersion/Main_Final/cost_funcs.py'), WindowsPath('C:/Users/kdmen/Repos/personalization-privacy-risk/Main_PythonVersion/Main_Final/experiment_params.py'), WindowsPath('C:/Users/kdmen/Repos/personalization-privacy-risk/Main_PythonVersion/Main_Final/fl_sim_base.py'), WindowsPath('C:/Users/kdmen/Repos/personalization-privacy-risk/Main_PythonVersion/Main_Final/fl_sim_client.py'), WindowsPath('C:/Users/kdmen/Repos/personalization-privacy-risk/Main_PythonVersion/Main_Final/fl_sim_server.py'), WindowsPath('C:/Users/kdmen/Repos/personalization-privacy-risk/Main_PythonVersion/Main_Final/forked'), WindowsPath('C:/Users/kdmen/Repos/personalization-privacy-risk/Main_PythonVersion/Main_Final/ipynbs'), WindowsPath('C:/Users/kdmen/Repos/personalization-privacy-risk/Main_PythonVersion/Main_Final/kcs_ml_infr.py'), WindowsPath('C:/Users/kdmen/Repos/personalization-privacy-risk/Main_PythonVersion/Main_Final/main_cross_kfcv.py'), WindowsPath('C:/Users/kdmen/Repos/personalization-privacy-risk/Main_PythonVersion/Main_Final/main_intra_kfcv.py'), WindowsPath('C:/Users/kdmen/Repos/personalization-privacy-risk/Main_PythonVersion/Main_Final/models'), WindowsPath('C:/Users/kdmen/Repos/personalization-privacy-risk/Main_PythonVersion/Main_Final/old_main_files'), WindowsPath('C:/Users/kdmen/Repos/personalization-privacy-risk/Main_PythonVersion/Main_Final/results'), WindowsPath('C:/Users/kdmen/Repos/personalization-privacy-risk/Main_PythonVersion/Main_Final/shared_globals.py'), WindowsPath('C:/Users/kdmen/Repos/personalization-privacy-risk/Main_PythonVersion/Main_Final/testing.py'), WindowsPath('C:/Users/kdmen/Repos/personalization-privacy-risk/Main_PythonVersion/Main_Final/utils.py'), WindowsPath('C:/Users/kdmen/Repos/personalization-privacy-risk/Main_PythonVersion/Main_Final/__pycache__')]\n"
     ]
    }
   ],
   "source": [
    "# This isn't gonna run without reworking the path...\n",
    "## So let's take care of that here:\n",
    "import sys\n",
    "from pathlib import Path\n",
    "# assumes this notebook lives one sub-directory down from your repo root\n",
    "repo_root = Path().resolve().parents[0]   # “parent” folder\n",
    "sys.path.insert(0, str(repo_root))\n",
    "print(\"inserting onto sys.path:\", repo_root)\n",
    "print(\"exists?\", repo_root.exists())\n",
    "print(\"contents:\", list(repo_root.iterdir()))\n",
    "\n",
    "from experiment_params import *\n",
    "from cost_funcs import *\n",
    "from fl_sim_client import *\n",
    "from fl_sim_server import *\n",
    "from shared_globals import *\n",
    "from utils import *  #load_model_logs"
   ]
  },
  {
   "cell_type": "code",
   "execution_count": 3,
   "id": "7bb7f8fb",
   "metadata": {},
   "outputs": [],
   "source": [
    "# GLOBALS\n",
    "GLOBAL_METHOD       = \"NOFL\"   # or \"PFAFO\", \"NOFL\", \"FEDAVG\"\n",
    "OPT_METHOD          = 'FULLSCIPYMIN' if GLOBAL_METHOD==\"NOFL\" else 'GD'\n",
    "GLOBAL_ROUNDS       = NOFL_NUM_ROUNDS if GLOBAL_METHOD==\"NOFL\" else NUM_GLOBAL_ROUNDS\n",
    "LOCAL_ROUND_THRESHOLD = 1 if GLOBAL_METHOD==\"NOFL\" else LRT\n",
    "NUM_STEPS           = 1 if GLOBAL_METHOD==\"NOFL\" else NUM_FL_STEPS\n",
    "\n",
    "# load your data\n",
    "with open(path + SAVED_DATASET, 'rb') as fp:\n",
    "    cond_training_and_labels_lst = pickle.load(fp)\n"
   ]
  },
  {
   "cell_type": "code",
   "execution_count": 4,
   "id": "191931cc",
   "metadata": {},
   "outputs": [],
   "source": [
    "base_path = 'C:\\\\Users\\\\kdmen\\\\Repos\\\\personalization-privacy-risk\\\\Main_PythonVersion\\\\Main_Final\\\\results\\\\IEEE_Final'\n"
   ]
  },
  {
   "cell_type": "code",
   "execution_count": 5,
   "id": "bbf24235",
   "metadata": {},
   "outputs": [],
   "source": [
    "def load_model_logs(cv_results_path, filename, num_folds=7):\n",
    "    extraction_dict = dict()\n",
    "    for i in range(num_folds):\n",
    "        h5_path = os.path.join(cv_results_path, filename+f\"{i}.h5\")\n",
    "        with h5py.File(h5_path, 'r') as f:\n",
    "            a_group_key = list(f.keys())\n",
    "            for key in a_group_key:\n",
    "                if key==\"client_local_model_log\":\n",
    "                    client_keys = list(f[key])\n",
    "                    for ck in client_keys:\n",
    "                        ed_key = f\"{ck}_fold{i}\"  # Does this never update from or something...\n",
    "                        if len(list(f[key][ck]))==0:\n",
    "                            pass\n",
    "                        else:\n",
    "                            extraction_dict[ed_key] = list(f[key][ck])\n",
    "                elif key==\"global_dec_log\" and \"NOFL\" not in filename:\n",
    "                    ed_key = f\"{key}_fold{i}\"\n",
    "                    extraction_dict[ed_key] = list(f[key])\n",
    "                else:\n",
    "                    pass\n",
    "    return extraction_dict"
   ]
  },
  {
   "cell_type": "code",
   "execution_count": 6,
   "id": "f52b6789",
   "metadata": {},
   "outputs": [],
   "source": [
    "# Load in the model logs\n",
    "\n",
    "# CROSS\n",
    "#cpfa_model_dict = load_model_logs(base_path+r'\\\\Cross_PFAFO', 'GD_PFAFO_KFold')\n",
    "#cfa_model_dict = load_model_logs(base_path+r'\\\\Cross_FEDAVG', 'GD_FEDAVG_KFold')\n",
    "cnofl_model_dict = load_model_logs(base_path+r'\\\\Cross_NOFL', 'FULLSCIPYMIN_NOFL_KFold')\n",
    "# INTRA\n",
    "#ipfa_model_dict = load_model_logs(base_path+r'\\\\Intra_PFAFO', 'GD_PFAFO_KFold')\n",
    "#ifa_model_dict = load_model_logs(base_path+r'\\\\Intra_FEDAVG', 'GD_FEDAVG_KFold')\n",
    "#inofl_model_dict = load_model_logs(base_path+r'\\\\Intra_NOFL', 'FULLSCIPYMIN_NOFL_KFold')"
   ]
  },
  {
   "cell_type": "code",
   "execution_count": 7,
   "id": "4924671c",
   "metadata": {},
   "outputs": [
    {
     "data": {
      "text/plain": [
       "dict_keys(['S0_client_local_model_log_fold0', 'S10_client_local_model_log_fold0', 'S11_client_local_model_log_fold0', 'S12_client_local_model_log_fold0', 'S13_client_local_model_log_fold0', 'S1_client_local_model_log_fold0', 'S2_client_local_model_log_fold0', 'S3_client_local_model_log_fold0', 'S4_client_local_model_log_fold0', 'S5_client_local_model_log_fold0', 'S6_client_local_model_log_fold0', 'S7_client_local_model_log_fold0', 'S8_client_local_model_log_fold0', 'S9_client_local_model_log_fold0', 'S0_client_local_model_log_fold1', 'S10_client_local_model_log_fold1', 'S11_client_local_model_log_fold1', 'S12_client_local_model_log_fold1', 'S13_client_local_model_log_fold1', 'S1_client_local_model_log_fold1', 'S2_client_local_model_log_fold1', 'S3_client_local_model_log_fold1', 'S4_client_local_model_log_fold1', 'S5_client_local_model_log_fold1', 'S6_client_local_model_log_fold1', 'S7_client_local_model_log_fold1', 'S8_client_local_model_log_fold1', 'S9_client_local_model_log_fold1', 'S0_client_local_model_log_fold2', 'S10_client_local_model_log_fold2', 'S11_client_local_model_log_fold2', 'S12_client_local_model_log_fold2', 'S13_client_local_model_log_fold2', 'S1_client_local_model_log_fold2', 'S2_client_local_model_log_fold2', 'S3_client_local_model_log_fold2', 'S4_client_local_model_log_fold2', 'S5_client_local_model_log_fold2', 'S6_client_local_model_log_fold2', 'S7_client_local_model_log_fold2', 'S8_client_local_model_log_fold2', 'S9_client_local_model_log_fold2', 'S0_client_local_model_log_fold3', 'S10_client_local_model_log_fold3', 'S11_client_local_model_log_fold3', 'S12_client_local_model_log_fold3', 'S13_client_local_model_log_fold3', 'S1_client_local_model_log_fold3', 'S2_client_local_model_log_fold3', 'S3_client_local_model_log_fold3', 'S4_client_local_model_log_fold3', 'S5_client_local_model_log_fold3', 'S6_client_local_model_log_fold3', 'S7_client_local_model_log_fold3', 'S8_client_local_model_log_fold3', 'S9_client_local_model_log_fold3', 'S0_client_local_model_log_fold4', 'S10_client_local_model_log_fold4', 'S11_client_local_model_log_fold4', 'S12_client_local_model_log_fold4', 'S13_client_local_model_log_fold4', 'S1_client_local_model_log_fold4', 'S2_client_local_model_log_fold4', 'S3_client_local_model_log_fold4', 'S4_client_local_model_log_fold4', 'S5_client_local_model_log_fold4', 'S6_client_local_model_log_fold4', 'S7_client_local_model_log_fold4', 'S8_client_local_model_log_fold4', 'S9_client_local_model_log_fold4', 'S0_client_local_model_log_fold5', 'S10_client_local_model_log_fold5', 'S11_client_local_model_log_fold5', 'S12_client_local_model_log_fold5', 'S13_client_local_model_log_fold5', 'S1_client_local_model_log_fold5', 'S2_client_local_model_log_fold5', 'S3_client_local_model_log_fold5', 'S4_client_local_model_log_fold5', 'S5_client_local_model_log_fold5', 'S6_client_local_model_log_fold5', 'S7_client_local_model_log_fold5', 'S8_client_local_model_log_fold5', 'S9_client_local_model_log_fold5', 'S0_client_local_model_log_fold6', 'S10_client_local_model_log_fold6', 'S11_client_local_model_log_fold6', 'S12_client_local_model_log_fold6', 'S13_client_local_model_log_fold6', 'S1_client_local_model_log_fold6', 'S2_client_local_model_log_fold6', 'S3_client_local_model_log_fold6', 'S4_client_local_model_log_fold6', 'S5_client_local_model_log_fold6', 'S6_client_local_model_log_fold6', 'S7_client_local_model_log_fold6', 'S8_client_local_model_log_fold6', 'S9_client_local_model_log_fold6'])"
      ]
     },
     "execution_count": 7,
     "metadata": {},
     "output_type": "execute_result"
    }
   ],
   "source": [
    "cnofl_model_dict.keys()"
   ]
  },
  {
   "cell_type": "code",
   "execution_count": 8,
   "id": "54f30a3b",
   "metadata": {},
   "outputs": [],
   "source": [
    "import re\n",
    "from collections import defaultdict\n",
    "\n",
    "def extract_models_by_fold(model_dict):\n",
    "    \"\"\"\n",
    "    Groups model snapshots by fold and orders each list by subject number.\n",
    "\n",
    "    Parameters:\n",
    "    - model_dict: dict mapping keys like 'S0_client_local_model_log_fold0' to arrays\n",
    "\n",
    "    Returns:\n",
    "    - A dict: { 'fold0': [array_S0_f0, array_S1_f0, ...],\n",
    "                'fold1': [...],\n",
    "                ... }\n",
    "    \"\"\"\n",
    "    # Temporary storage: fold_index → list of (subject_index, array)\n",
    "    temp = defaultdict(list)\n",
    "    pattern = re.compile(r'^S(\\d+)_client_local_model_log_fold(\\d+)$')\n",
    "\n",
    "    for key, arr in model_dict.items():\n",
    "        m = pattern.match(key)\n",
    "        if not m:\n",
    "            continue\n",
    "        subj_idx = int(m.group(1))\n",
    "        fold_idx = int(m.group(2))\n",
    "        temp[fold_idx].append((subj_idx, arr))\n",
    "\n",
    "    # Build the final ordered dict\n",
    "    ordered_by_fold = {}\n",
    "    for fold_idx in sorted(temp.keys()):\n",
    "        # Sort by subject index, then extract arrays in order\n",
    "        sorted_items = sorted(temp[fold_idx], key=lambda x: x[0])\n",
    "        ordered_by_fold[f'fold{fold_idx}'] = [arr for _, arr in sorted_items]\n",
    "\n",
    "    return ordered_by_fold\n",
    "\n"
   ]
  },
  {
   "cell_type": "code",
   "execution_count": null,
   "id": "c15f4f27",
   "metadata": {},
   "outputs": [],
   "source": [
    "def report_model_distances(models_by_fold):\n",
    "    \"\"\"\n",
    "    For each subject, computes and prints:\n",
    "      - Standard deviation of the L2 norms of that subject’s final models across folds\n",
    "      - Euclidean distances between fold0 and fold1..foldN for that subject\n",
    "\n",
    "    Parameters:\n",
    "    - models_by_fold: dict mapping 'fold0','fold1',... to lists of weight‐vectors (lists or arrays)\n",
    "    \"\"\"\n",
    "    # Sort fold keys numerically\n",
    "    fold_keys = sorted(models_by_fold.keys(), key=lambda k: int(k.replace('fold','')))\n",
    "    \n",
    "    # Determine number of subjects from the first fold\n",
    "    first_fold = models_by_fold[fold_keys[0]]\n",
    "    num_subjects = len(first_fold)\n",
    "    \n",
    "    for subj_idx in range(num_subjects):\n",
    "        # Gather this subject’s final model from each fold (if present)\n",
    "        vecs = []\n",
    "        present_folds = []\n",
    "        for fk in fold_keys:\n",
    "            fold_list = models_by_fold[fk]\n",
    "            if subj_idx < len(fold_list):\n",
    "                vecs.append(np.asarray(fold_list[subj_idx]))  # to array\n",
    "                present_folds.append(fk)\n",
    "        \n",
    "        if not vecs:\n",
    "            print(f\"Subject S{subj_idx}: no models found in any fold.\")\n",
    "            continue\n",
    "        \n",
    "        # Compute L2 norms and their std\n",
    "        norms = [np.linalg.norm(v) for v in vecs]\n",
    "        std_norm = float(np.std(norms))\n",
    "        print(f\"Subject S{subj_idx} model norm std: {std_norm:.4f}\")\n",
    "        \n",
    "        # Compute distances only between fold0 and fold1..foldN\n",
    "        base_vec = vecs[0]\n",
    "        base_fold = present_folds[0]\n",
    "        for j in range(1, len(vecs)):\n",
    "            d = float(np.linalg.norm(base_vec - vecs[j]))\n",
    "            f2 = present_folds[j]\n",
    "            print(f\"  Distance S{subj_idx} {base_fold} → {f2}: {d:.4f}\")\n",
    "        print()\n"
   ]
  },
  {
   "cell_type": "code",
   "execution_count": 10,
   "id": "0270332a",
   "metadata": {},
   "outputs": [],
   "source": [
    "models_by_fold = extract_models_by_fold(cnofl_model_dict)\n"
   ]
  },
  {
   "cell_type": "code",
   "execution_count": 11,
   "id": "457d7a80",
   "metadata": {},
   "outputs": [
    {
     "name": "stdout",
     "output_type": "stream",
     "text": [
      "Subject S0 model norm std: 30.8827\n",
      "  Distance S0 fold0 → fold1: 97.4963\n",
      "  Distance S0 fold0 → fold2: 0.0000\n",
      "  Distance S0 fold0 → fold3: 0.0000\n",
      "  Distance S0 fold0 → fold4: 0.0000\n",
      "  Distance S0 fold0 → fold5: 0.0000\n",
      "  Distance S0 fold0 → fold6: 0.0000\n",
      "\n",
      "Subject S1 model norm std: 17.7940\n",
      "  Distance S1 fold0 → fold1: 0.0000\n",
      "  Distance S1 fold0 → fold2: 0.0000\n",
      "  Distance S1 fold0 → fold3: 0.0000\n",
      "  Distance S1 fold0 → fold4: 61.6453\n",
      "  Distance S1 fold0 → fold5: 0.0000\n",
      "  Distance S1 fold0 → fold6: 0.0000\n",
      "\n",
      "Subject S2 model norm std: 30.8230\n",
      "  Distance S2 fold0 → fold1: 0.0000\n",
      "  Distance S2 fold0 → fold2: 0.0000\n",
      "  Distance S2 fold0 → fold3: 0.0000\n",
      "  Distance S2 fold0 → fold4: 0.0000\n",
      "  Distance S2 fold0 → fold5: 0.0000\n",
      "  Distance S2 fold0 → fold6: 96.7841\n",
      "\n",
      "Subject S3 model norm std: 6.6928\n",
      "  Distance S3 fold0 → fold1: 0.0000\n",
      "  Distance S3 fold0 → fold2: 0.0000\n",
      "  Distance S3 fold0 → fold3: 0.0000\n",
      "  Distance S3 fold0 → fold4: 32.5216\n",
      "  Distance S3 fold0 → fold5: 0.0000\n",
      "  Distance S3 fold0 → fold6: 0.0000\n",
      "\n",
      "Subject S4 model norm std: 13.8568\n",
      "  Distance S4 fold0 → fold1: 49.5191\n",
      "  Distance S4 fold0 → fold2: 0.0000\n",
      "  Distance S4 fold0 → fold3: 0.0000\n",
      "  Distance S4 fold0 → fold4: 0.0000\n",
      "  Distance S4 fold0 → fold5: 0.0000\n",
      "  Distance S4 fold0 → fold6: 0.0000\n",
      "\n",
      "Subject S5 model norm std: 19.5019\n",
      "  Distance S5 fold0 → fold1: 0.0000\n",
      "  Distance S5 fold0 → fold2: 64.9162\n",
      "  Distance S5 fold0 → fold3: 0.0000\n",
      "  Distance S5 fold0 → fold4: 0.0000\n",
      "  Distance S5 fold0 → fold5: 0.0000\n",
      "  Distance S5 fold0 → fold6: 0.0000\n",
      "\n",
      "Subject S6 model norm std: 9.5137\n",
      "  Distance S6 fold0 → fold1: 0.0000\n",
      "  Distance S6 fold0 → fold2: 0.0000\n",
      "  Distance S6 fold0 → fold3: 0.0000\n",
      "  Distance S6 fold0 → fold4: 0.0000\n",
      "  Distance S6 fold0 → fold5: 38.1787\n",
      "  Distance S6 fold0 → fold6: 0.0000\n",
      "\n",
      "Subject S7 model norm std: 15.1041\n",
      "  Distance S7 fold0 → fold1: 53.8438\n",
      "  Distance S7 fold0 → fold2: 53.8438\n",
      "  Distance S7 fold0 → fold3: 53.8438\n",
      "  Distance S7 fold0 → fold4: 53.8438\n",
      "  Distance S7 fold0 → fold5: 53.8438\n",
      "  Distance S7 fold0 → fold6: 53.8438\n",
      "\n",
      "Subject S8 model norm std: 26.2094\n",
      "  Distance S8 fold0 → fold1: 0.0000\n",
      "  Distance S8 fold0 → fold2: 0.0000\n",
      "  Distance S8 fold0 → fold3: 83.0660\n",
      "  Distance S8 fold0 → fold4: 0.0000\n",
      "  Distance S8 fold0 → fold5: 0.0000\n",
      "  Distance S8 fold0 → fold6: 0.0000\n",
      "\n",
      "Subject S9 model norm std: 0.2719\n",
      "  Distance S9 fold0 → fold1: 0.0000\n",
      "  Distance S9 fold0 → fold2: 19.0572\n",
      "  Distance S9 fold0 → fold3: 0.0000\n",
      "  Distance S9 fold0 → fold4: 0.0000\n",
      "  Distance S9 fold0 → fold5: 0.0000\n",
      "  Distance S9 fold0 → fold6: 0.0000\n",
      "\n",
      "Subject S10 model norm std: 27.9620\n",
      "  Distance S10 fold0 → fold1: 88.1377\n",
      "  Distance S10 fold0 → fold2: 88.1377\n",
      "  Distance S10 fold0 → fold3: 88.1377\n",
      "  Distance S10 fold0 → fold4: 88.1377\n",
      "  Distance S10 fold0 → fold5: 88.1377\n",
      "  Distance S10 fold0 → fold6: 88.1377\n",
      "\n",
      "Subject S11 model norm std: 18.8095\n",
      "  Distance S11 fold0 → fold1: 0.0000\n",
      "  Distance S11 fold0 → fold2: 0.0000\n",
      "  Distance S11 fold0 → fold3: 62.5473\n",
      "  Distance S11 fold0 → fold4: 0.0000\n",
      "  Distance S11 fold0 → fold5: 0.0000\n",
      "  Distance S11 fold0 → fold6: 0.0000\n",
      "\n",
      "Subject S12 model norm std: 26.6861\n",
      "  Distance S12 fold0 → fold1: 0.0000\n",
      "  Distance S12 fold0 → fold2: 0.0000\n",
      "  Distance S12 fold0 → fold3: 0.0000\n",
      "  Distance S12 fold0 → fold4: 0.0000\n",
      "  Distance S12 fold0 → fold5: 84.0870\n",
      "  Distance S12 fold0 → fold6: 0.0000\n",
      "\n",
      "Subject S13 model norm std: 28.1217\n",
      "  Distance S13 fold0 → fold1: 0.0000\n",
      "  Distance S13 fold0 → fold2: 0.0000\n",
      "  Distance S13 fold0 → fold3: 0.0000\n",
      "  Distance S13 fold0 → fold4: 0.0000\n",
      "  Distance S13 fold0 → fold5: 0.0000\n",
      "  Distance S13 fold0 → fold6: 88.1944\n",
      "\n"
     ]
    }
   ],
   "source": [
    "report_model_distances(models_by_fold)"
   ]
  },
  {
   "cell_type": "markdown",
   "id": "ee8fe230",
   "metadata": {},
   "source": [
    "> The above trend can be explained by the fact that Local+Cross, even though we change which users are in the testing set, we never actually change what the training datasets. Thus, combined with the fact that Local is deterministic when seeded, we get the same model every time (we are training on the same data and find the same global minimum). The one decoder that is not equal to all the others is when taht subject is used as the test subject, and the subject has the init decoder that has never been trained."
   ]
  },
  {
   "cell_type": "code",
   "execution_count": 12,
   "id": "8eb781ce",
   "metadata": {},
   "outputs": [
    {
     "name": "stdout",
     "output_type": "stream",
     "text": [
      "S0, len 11\n",
      "S1, len 11\n",
      "S2, len 11\n",
      "S3, len 11\n",
      "S4, len 11\n",
      "S5, len 11\n",
      "S6, len 11\n",
      "S7, len 1\n",
      "S8, len 11\n",
      "S9, len 11\n",
      "S10, len 1\n",
      "S11, len 11\n",
      "S12, len 11\n",
      "S13, len 11\n"
     ]
    }
   ],
   "source": [
    "fold0_list = models_by_fold['fold0']  # list of arrays in S0, S1, S2, ... order\n",
    "\n",
    "for idx, ele in enumerate(fold0_list):\n",
    "    print(f\"S{idx}, len {len(ele)}\")"
   ]
  },
  {
   "cell_type": "code",
   "execution_count": 13,
   "id": "2f628949",
   "metadata": {},
   "outputs": [
    {
     "name": "stdout",
     "output_type": "stream",
     "text": [
      "i: 0, len: 11\n",
      "i: 1, len: 11\n",
      "i: 2, len: 11\n",
      "i: 3, len: 11\n",
      "i: 4, len: 11\n",
      "i: 5, len: 11\n",
      "i: 6, len: 11\n",
      "i: 7, len: 1\n",
      "i: 8, len: 11\n",
      "i: 9, len: 11\n",
      "i: 10, len: 1\n",
      "i: 11, len: 11\n",
      "i: 12, len: 11\n",
      "i: 13, len: 11\n"
     ]
    }
   ],
   "source": [
    "full_client_lst = []\n",
    "final_model_log = []\n",
    "for i in range(NUM_USERS):\n",
    "    print(f\"i: {i}, len: {len(fold0_list[i])}\")\n",
    "    final_model = fold0_list[i][-1]\n",
    "    final_model_log.append(copy.deepcopy(final_model))\n",
    "    full_client_lst.append(Client(\n",
    "                        i,\n",
    "                        copy.deepcopy(final_model),\n",
    "                        OPT_METHOD,\n",
    "                        cond_training_and_labels_lst[i],\n",
    "                        DATA_STREAM,\n",
    "                        lr=LR,\n",
    "                        smoothbatch_lr=SMOOTHBATCH_LR, \n",
    "                        beta=BETA,\n",
    "                        scenario=\"INTRA\",\n",
    "                        local_round_threshold=LOCAL_ROUND_THRESHOLD,\n",
    "                        starting_update=STARTING_UPDATE,\n",
    "                        global_method=GLOBAL_METHOD,\n",
    "                        num_steps=NUM_STEPS,\n",
    "                        test_split_type=\"TEST_ON_PRE\"\n",
    "                        )\n",
    "                    )\n"
   ]
  },
  {
   "cell_type": "code",
   "execution_count": 14,
   "id": "48055d45",
   "metadata": {},
   "outputs": [
    {
     "name": "stdout",
     "output_type": "stream",
     "text": [
      "Skipping fold0 untrained withheld test subject 7\n",
      "Skipping fold0 untrained withheld test subject 10\n"
     ]
    }
   ],
   "source": [
    "loss_log = []\n",
    "vel_err_log = []\n",
    "dec_err_log = []\n",
    "for i, cli in enumerate(full_client_lst):\n",
    "    if i in [7, 10]:\n",
    "        print(f\"Skipping fold0 untrained withheld test subject {i}\")\n",
    "    else:\n",
    "        loss, (vel_err, dec_err) = cli.test_metrics(final_model_log[i], which='LOCAL', return_cost_func_comps=True)\n",
    "        loss_log.append(loss)\n",
    "        vel_err_log.append(vel_err)\n",
    "        dec_err_log.append(dec_err)\n"
   ]
  },
  {
   "cell_type": "code",
   "execution_count": 15,
   "id": "820f9c56",
   "metadata": {},
   "outputs": [
    {
     "data": {
      "text/plain": [
       "[0.033731959614955315,\n",
       " 0.17869039280435778,\n",
       " 0.005489657242389587,\n",
       " 0.0041713756040382185,\n",
       " 0.0037994851538065474,\n",
       " 0.027784306071114744,\n",
       " 0.01191656494307179,\n",
       " 0.09165999849553777,\n",
       " 0.022914542322215126,\n",
       " 0.6734361897012279,\n",
       " 0.013154315070118907,\n",
       " 0.01289734988917947]"
      ]
     },
     "execution_count": 15,
     "metadata": {},
     "output_type": "execute_result"
    }
   ],
   "source": [
    "loss_log"
   ]
  },
  {
   "cell_type": "code",
   "execution_count": 16,
   "id": "82b5a3e7",
   "metadata": {},
   "outputs": [
    {
     "data": {
      "text/plain": [
       "0.08997051140933443"
      ]
     },
     "execution_count": 16,
     "metadata": {},
     "output_type": "execute_result"
    }
   ],
   "source": [
    "np.mean(loss_log)"
   ]
  },
  {
   "cell_type": "code",
   "execution_count": 17,
   "id": "50f7047a",
   "metadata": {},
   "outputs": [
    {
     "data": {
      "text/plain": [
       "0.18250343428180282"
      ]
     },
     "execution_count": 17,
     "metadata": {},
     "output_type": "execute_result"
    }
   ],
   "source": [
    "np.std(loss_log)"
   ]
  },
  {
   "cell_type": "code",
   "execution_count": 18,
   "id": "c3a21a33",
   "metadata": {},
   "outputs": [
    {
     "data": {
      "text/plain": [
       "0.08993263292856124"
      ]
     },
     "execution_count": 18,
     "metadata": {},
     "output_type": "execute_result"
    }
   ],
   "source": [
    "np.mean(vel_err_log)"
   ]
  },
  {
   "cell_type": "code",
   "execution_count": 19,
   "id": "da6b2050",
   "metadata": {},
   "outputs": [
    {
     "data": {
      "text/plain": [
       "3.787848077317579e-05"
      ]
     },
     "execution_count": 19,
     "metadata": {},
     "output_type": "execute_result"
    }
   ],
   "source": [
    "np.mean(dec_err_log)"
   ]
  },
  {
   "cell_type": "code",
   "execution_count": null,
   "id": "acb9e274",
   "metadata": {},
   "outputs": [],
   "source": []
  },
  {
   "cell_type": "code",
   "execution_count": 20,
   "id": "689f257b",
   "metadata": {},
   "outputs": [
    {
     "name": "stdout",
     "output_type": "stream",
     "text": [
      "Len intra_log: 14\n",
      "0.08843895192857143\n"
     ]
    }
   ],
   "source": [
    "old_intra_err_log = [0.017689582, \n",
    "                    0.02488066, \n",
    "                    0.877951066, \n",
    "                    0.014488665, \n",
    "                    0.016317067, \n",
    "                    0.071500494, \n",
    "                    0.005124895, \n",
    "                    0.001997069, \n",
    "                    0.006421436, \n",
    "                    0.017807219, \n",
    "                    0.007818029, \n",
    "                    0.147865809, \n",
    "                    0.014568378, \n",
    "                    0.013714958]\n",
    "\n",
    "print(f\"Len intra_log: {len(old_intra_err_log)}\")\n",
    "print(np.mean(old_intra_err_log))"
   ]
  },
  {
   "cell_type": "code",
   "execution_count": 21,
   "id": "16f883a8",
   "metadata": {},
   "outputs": [
    {
     "name": "stdout",
     "output_type": "stream",
     "text": [
      "Len cross_log: 14\n",
      "0.2557750645\n"
     ]
    }
   ],
   "source": [
    "cross_err_log = [0.263164298, #S0\n",
    "                0.235297268,  #S1\n",
    "                0.556111058,  #S10\n",
    "                0.948417739,  #S11\n",
    "                0.070724384,  #S12\n",
    "                0.248437074,  #S13\n",
    "                0.010915889,  #S2\n",
    "                0.070971476,  #S3\n",
    "                0.26031072,   #S4\n",
    "                0.048793324,  #S5\n",
    "                0.296195863,  #S6\n",
    "                0.029562334,  #S7\n",
    "                0.403155799,  #S8\n",
    "                0.138793677]  #S9\n",
    "\n",
    "print(f\"Len cross_log: {len(cross_err_log)}\")\n",
    "print(np.mean(cross_err_log))"
   ]
  },
  {
   "cell_type": "markdown",
   "id": "6fac5375",
   "metadata": {},
   "source": [
    "> Shouldn't cross only be 12 elements? We should not be testing the 2 untrained withheld subjects (from the testing fold)... The above data is already averaged across the folds"
   ]
  },
  {
   "cell_type": "code",
   "execution_count": null,
   "metadata": {},
   "outputs": [],
   "source": []
  },
  {
   "cell_type": "code",
   "execution_count": null,
   "id": "b7fb45e2",
   "metadata": {},
   "outputs": [],
   "source": []
  },
  {
   "cell_type": "code",
   "execution_count": 22,
   "id": "d9ed0368",
   "metadata": {},
   "outputs": [],
   "source": [
    "\n",
    "def average_client_loss_across_folds(\n",
    "    models_by_fold,\n",
    "    cond_training_and_labels_lst,\n",
    "    num_folds,\n",
    "    num_users\n",
    "):\n",
    "    \"\"\"\n",
    "    For each fold 0..num_folds-1:\n",
    "      - Retrieves each subject's model snapshots from models_by_fold['fold{fold_idx}']\n",
    "      - Skips any subject with <=1 snapshots (withheld clients)\n",
    "      - Instantiates a Client with the final snapshot and evaluates test_metrics\n",
    "      - Accumulates the loss per subject across folds\n",
    "    Returns a DataFrame with each Subject's average loss across the folds they appeared in.\n",
    "    \"\"\"\n",
    "    # Initialize storage for losses\n",
    "    loss_by_client = {i: [] for i in range(num_users)}\n",
    "\n",
    "    for fold_idx in range(num_folds):\n",
    "        fold_key = f'fold{fold_idx}'\n",
    "        fold_list = models_by_fold[fold_key]\n",
    "        print(f\"\\nProcessing {fold_key}, subjects found: {len(fold_list)}\")\n",
    "\n",
    "        for i, snapshots in enumerate(fold_list):\n",
    "            # Skip withheld clients (<=1 snapshot)\n",
    "            if len(snapshots) <= 1:\n",
    "                print(f\"  Skipping S{i} in {fold_key} (only {len(snapshots)} snapshot(s))\")\n",
    "                continue\n",
    "\n",
    "            # Use the last snapshot as the final model\n",
    "            final_model = snapshots[-1]\n",
    "\n",
    "            # Instantiate the Client\n",
    "            client = Client(\n",
    "                i,\n",
    "                copy.deepcopy(final_model),\n",
    "                OPT_METHOD,\n",
    "                cond_training_and_labels_lst[i],\n",
    "                DATA_STREAM,\n",
    "                lr=LR,\n",
    "                smoothbatch_lr=SMOOTHBATCH_LR,\n",
    "                beta=BETA,\n",
    "                scenario=\"INTRA\",\n",
    "                local_round_threshold=LOCAL_ROUND_THRESHOLD,\n",
    "                starting_update=STARTING_UPDATE,\n",
    "                global_method=GLOBAL_METHOD,\n",
    "                num_steps=NUM_STEPS,\n",
    "                test_split_type=\"TEST_ON_PRE\"\n",
    "            )\n",
    "\n",
    "            # Evaluate and record loss\n",
    "            loss, _ = client.test_metrics(final_model, which='LOCAL', return_cost_func_comps=True)\n",
    "            loss_by_client[i].append(loss)\n",
    "            print(f\"    Fold {fold_idx}, Subject S{i} → loss {loss:.4f}\")\n",
    "\n",
    "    # Build a DataFrame of average loss per subject\n",
    "    records = []\n",
    "    for i in range(num_users):\n",
    "        losses = loss_by_client[i]\n",
    "        avg_loss = np.mean(losses) if losses else np.nan\n",
    "        records.append({\"Subject\": f\"S{i}\", \"Avg_Loss\": avg_loss})\n",
    "\n",
    "    return pd.DataFrame(records)\n"
   ]
  },
  {
   "cell_type": "code",
   "execution_count": 23,
   "id": "49f6e5b9",
   "metadata": {},
   "outputs": [
    {
     "name": "stdout",
     "output_type": "stream",
     "text": [
      "\n",
      "Processing fold0, subjects found: 14\n",
      "    Fold 0, Subject S0 → loss 0.0337\n",
      "    Fold 0, Subject S1 → loss 0.1787\n",
      "    Fold 0, Subject S2 → loss 0.0055\n",
      "    Fold 0, Subject S3 → loss 0.0042\n",
      "    Fold 0, Subject S4 → loss 0.0038\n",
      "    Fold 0, Subject S5 → loss 0.0278\n",
      "    Fold 0, Subject S6 → loss 0.0119\n",
      "  Skipping S7 in fold0 (only 1 snapshot(s))\n",
      "    Fold 0, Subject S8 → loss 0.0917\n",
      "    Fold 0, Subject S9 → loss 0.0229\n",
      "  Skipping S10 in fold0 (only 1 snapshot(s))\n",
      "    Fold 0, Subject S11 → loss 0.6734\n",
      "    Fold 0, Subject S12 → loss 0.0132\n",
      "    Fold 0, Subject S13 → loss 0.0129\n",
      "\n",
      "Processing fold1, subjects found: 14\n",
      "  Skipping S0 in fold1 (only 1 snapshot(s))\n",
      "    Fold 1, Subject S1 → loss 0.1787\n",
      "    Fold 1, Subject S2 → loss 0.0055\n",
      "    Fold 1, Subject S3 → loss 0.0042\n",
      "  Skipping S4 in fold1 (only 1 snapshot(s))\n",
      "    Fold 1, Subject S5 → loss 0.0278\n",
      "    Fold 1, Subject S6 → loss 0.0119\n",
      "    Fold 1, Subject S7 → loss 0.0550\n",
      "    Fold 1, Subject S8 → loss 0.0917\n",
      "    Fold 1, Subject S9 → loss 0.0229\n",
      "    Fold 1, Subject S10 → loss 0.0140\n",
      "    Fold 1, Subject S11 → loss 0.6734\n",
      "    Fold 1, Subject S12 → loss 0.0132\n",
      "    Fold 1, Subject S13 → loss 0.0129\n",
      "\n",
      "Processing fold2, subjects found: 14\n",
      "    Fold 2, Subject S0 → loss 0.0337\n",
      "    Fold 2, Subject S1 → loss 0.1787\n",
      "    Fold 2, Subject S2 → loss 0.0055\n",
      "    Fold 2, Subject S3 → loss 0.0042\n",
      "    Fold 2, Subject S4 → loss 0.0038\n",
      "  Skipping S5 in fold2 (only 1 snapshot(s))\n",
      "    Fold 2, Subject S6 → loss 0.0119\n",
      "    Fold 2, Subject S7 → loss 0.0550\n",
      "    Fold 2, Subject S8 → loss 0.0917\n",
      "  Skipping S9 in fold2 (only 1 snapshot(s))\n",
      "    Fold 2, Subject S10 → loss 0.0140\n",
      "    Fold 2, Subject S11 → loss 0.6734\n",
      "    Fold 2, Subject S12 → loss 0.0132\n",
      "    Fold 2, Subject S13 → loss 0.0129\n",
      "\n",
      "Processing fold3, subjects found: 14\n",
      "    Fold 3, Subject S0 → loss 0.0337\n",
      "    Fold 3, Subject S1 → loss 0.1787\n",
      "    Fold 3, Subject S2 → loss 0.0055\n",
      "    Fold 3, Subject S3 → loss 0.0042\n",
      "    Fold 3, Subject S4 → loss 0.0038\n",
      "    Fold 3, Subject S5 → loss 0.0278\n",
      "    Fold 3, Subject S6 → loss 0.0119\n",
      "    Fold 3, Subject S7 → loss 0.0550\n",
      "  Skipping S8 in fold3 (only 1 snapshot(s))\n",
      "    Fold 3, Subject S9 → loss 0.0229\n",
      "    Fold 3, Subject S10 → loss 0.0140\n",
      "  Skipping S11 in fold3 (only 1 snapshot(s))\n",
      "    Fold 3, Subject S12 → loss 0.0132\n",
      "    Fold 3, Subject S13 → loss 0.0129\n",
      "\n",
      "Processing fold4, subjects found: 14\n",
      "    Fold 4, Subject S0 → loss 0.0337\n",
      "  Skipping S1 in fold4 (only 1 snapshot(s))\n",
      "    Fold 4, Subject S2 → loss 0.0055\n",
      "  Skipping S3 in fold4 (only 1 snapshot(s))\n",
      "    Fold 4, Subject S4 → loss 0.0038\n",
      "    Fold 4, Subject S5 → loss 0.0278\n",
      "    Fold 4, Subject S6 → loss 0.0119\n",
      "    Fold 4, Subject S7 → loss 0.0550\n",
      "    Fold 4, Subject S8 → loss 0.0917\n",
      "    Fold 4, Subject S9 → loss 0.0229\n",
      "    Fold 4, Subject S10 → loss 0.0140\n",
      "    Fold 4, Subject S11 → loss 0.6734\n",
      "    Fold 4, Subject S12 → loss 0.0132\n",
      "    Fold 4, Subject S13 → loss 0.0129\n",
      "\n",
      "Processing fold5, subjects found: 14\n",
      "    Fold 5, Subject S0 → loss 0.0337\n",
      "    Fold 5, Subject S1 → loss 0.1787\n",
      "    Fold 5, Subject S2 → loss 0.0055\n",
      "    Fold 5, Subject S3 → loss 0.0042\n",
      "    Fold 5, Subject S4 → loss 0.0038\n",
      "    Fold 5, Subject S5 → loss 0.0278\n",
      "  Skipping S6 in fold5 (only 1 snapshot(s))\n",
      "    Fold 5, Subject S7 → loss 0.0550\n",
      "    Fold 5, Subject S8 → loss 0.0917\n",
      "    Fold 5, Subject S9 → loss 0.0229\n",
      "    Fold 5, Subject S10 → loss 0.0140\n",
      "    Fold 5, Subject S11 → loss 0.6734\n",
      "  Skipping S12 in fold5 (only 1 snapshot(s))\n",
      "    Fold 5, Subject S13 → loss 0.0129\n",
      "\n",
      "Processing fold6, subjects found: 14\n",
      "    Fold 6, Subject S0 → loss 0.0337\n",
      "    Fold 6, Subject S1 → loss 0.1787\n",
      "  Skipping S2 in fold6 (only 1 snapshot(s))\n",
      "    Fold 6, Subject S3 → loss 0.0042\n",
      "    Fold 6, Subject S4 → loss 0.0038\n",
      "    Fold 6, Subject S5 → loss 0.0278\n",
      "    Fold 6, Subject S6 → loss 0.0119\n",
      "    Fold 6, Subject S7 → loss 0.0550\n",
      "    Fold 6, Subject S8 → loss 0.0917\n",
      "    Fold 6, Subject S9 → loss 0.0229\n",
      "    Fold 6, Subject S10 → loss 0.0140\n",
      "    Fold 6, Subject S11 → loss 0.6734\n",
      "    Fold 6, Subject S12 → loss 0.0132\n",
      "  Skipping S13 in fold6 (only 1 snapshot(s))\n"
     ]
    }
   ],
   "source": [
    "df = average_client_loss_across_folds(\n",
    "    models_by_fold, cond_training_and_labels_lst,\n",
    "    num_folds=7,\n",
    "    num_users=14)"
   ]
  },
  {
   "cell_type": "code",
   "execution_count": null,
   "id": "1bdf0d32",
   "metadata": {},
   "outputs": [
    {
     "name": "stdout",
     "output_type": "stream",
     "text": [
      "(14, 2)\n"
     ]
    },
    {
     "data": {
      "text/html": [
       "<div>\n",
       "<style scoped>\n",
       "    .dataframe tbody tr th:only-of-type {\n",
       "        vertical-align: middle;\n",
       "    }\n",
       "\n",
       "    .dataframe tbody tr th {\n",
       "        vertical-align: top;\n",
       "    }\n",
       "\n",
       "    .dataframe thead th {\n",
       "        text-align: right;\n",
       "    }\n",
       "</style>\n",
       "<table border=\"1\" class=\"dataframe\">\n",
       "  <thead>\n",
       "    <tr style=\"text-align: right;\">\n",
       "      <th></th>\n",
       "      <th>Subject</th>\n",
       "      <th>Avg_Loss</th>\n",
       "    </tr>\n",
       "  </thead>\n",
       "  <tbody>\n",
       "    <tr>\n",
       "      <th>0</th>\n",
       "      <td>S0</td>\n",
       "      <td>0.033732</td>\n",
       "    </tr>\n",
       "    <tr>\n",
       "      <th>1</th>\n",
       "      <td>S1</td>\n",
       "      <td>0.178690</td>\n",
       "    </tr>\n",
       "    <tr>\n",
       "      <th>2</th>\n",
       "      <td>S2</td>\n",
       "      <td>0.005490</td>\n",
       "    </tr>\n",
       "    <tr>\n",
       "      <th>3</th>\n",
       "      <td>S3</td>\n",
       "      <td>0.004171</td>\n",
       "    </tr>\n",
       "    <tr>\n",
       "      <th>4</th>\n",
       "      <td>S4</td>\n",
       "      <td>0.003799</td>\n",
       "    </tr>\n",
       "  </tbody>\n",
       "</table>\n",
       "</div>"
      ],
      "text/plain": [
       "  Subject  Avg_Loss\n",
       "0      S0  0.033732\n",
       "1      S1  0.178690\n",
       "2      S2  0.005490\n",
       "3      S3  0.004171\n",
       "4      S4  0.003799"
      ]
     },
     "execution_count": 24,
     "metadata": {},
     "output_type": "execute_result"
    }
   ],
   "source": [
    "print(df.shape)\n",
    "df.head()"
   ]
  },
  {
   "cell_type": "code",
   "execution_count": 27,
   "id": "f8706199",
   "metadata": {},
   "outputs": [
    {
     "data": {
      "text/plain": [
       "0     0.033732\n",
       "1     0.178690\n",
       "2     0.005490\n",
       "3     0.004171\n",
       "4     0.003799\n",
       "5     0.027784\n",
       "6     0.011917\n",
       "7     0.054979\n",
       "8     0.091660\n",
       "9     0.022915\n",
       "10    0.014028\n",
       "11    0.673436\n",
       "12    0.013154\n",
       "13    0.012897\n",
       "Name: Avg_Loss, dtype: float64"
      ]
     },
     "execution_count": 27,
     "metadata": {},
     "output_type": "execute_result"
    }
   ],
   "source": [
    "df[\"Avg_Loss\"]"
   ]
  },
  {
   "cell_type": "code",
   "execution_count": null,
   "id": "0647f6ae",
   "metadata": {},
   "outputs": [],
   "source": []
  }
 ],
 "metadata": {
  "kernelspec": {
   "display_name": "fl_torch",
   "language": "python",
   "name": "python3"
  },
  "language_info": {
   "codemirror_mode": {
    "name": "ipython",
    "version": 3
   },
   "file_extension": ".py",
   "mimetype": "text/x-python",
   "name": "python",
   "nbconvert_exporter": "python",
   "pygments_lexer": "ipython3",
   "version": "3.10.10"
  }
 },
 "nbformat": 4,
 "nbformat_minor": 5
}
